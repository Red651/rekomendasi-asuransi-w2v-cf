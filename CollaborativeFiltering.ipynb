{
 "cells": [
  {
   "cell_type": "code",
   "execution_count": 1,
   "metadata": {},
   "outputs": [],
   "source": [
    "from sklearn.feature_extraction.text import TfidfVectorizer\n",
    "from sklearn.linear_model import LogisticRegression\n",
    "from sklearn.metrics import mean_absolute_error\n",
    "from surprise import Dataset, Reader, accuracy\n",
    "from sklearn.metrics.pairwise import cosine_similarity\n",
    "from surprise.model_selection import train_test_split\n",
    "from surprise import SVD\n",
    "import numpy as np\n",
    "import pandas as pd"
   ]
  },
  {
   "cell_type": "markdown",
   "metadata": {},
   "source": [
    "# Preprocessing"
   ]
  },
  {
   "cell_type": "code",
   "execution_count": 2,
   "metadata": {},
   "outputs": [],
   "source": [
    "# Load the data\n",
    "data_raw = pd.read_csv('Fix_Dataset/asuransi_clean.csv')"
   ]
  },
  {
   "cell_type": "code",
   "execution_count": 3,
   "metadata": {},
   "outputs": [
    {
     "data": {
      "text/html": [
       "<div>\n",
       "<style scoped>\n",
       "    .dataframe tbody tr th:only-of-type {\n",
       "        vertical-align: middle;\n",
       "    }\n",
       "\n",
       "    .dataframe tbody tr th {\n",
       "        vertical-align: top;\n",
       "    }\n",
       "\n",
       "    .dataframe thead th {\n",
       "        text-align: right;\n",
       "    }\n",
       "</style>\n",
       "<table border=\"1\" class=\"dataframe\">\n",
       "  <thead>\n",
       "    <tr style=\"text-align: right;\">\n",
       "      <th></th>\n",
       "      <th>created_at</th>\n",
       "      <th>full_text</th>\n",
       "      <th>username</th>\n",
       "      <th>Produk</th>\n",
       "      <th>rate</th>\n",
       "    </tr>\n",
       "  </thead>\n",
       "  <tbody>\n",
       "    <tr>\n",
       "      <th>0</th>\n",
       "      <td>2023-09-25</td>\n",
       "      <td>['1', '5', 'juta', 'sist', 'kantor', 'sih', 'j...</td>\n",
       "      <td>Ditanyadia</td>\n",
       "      <td>AIA</td>\n",
       "      <td>2</td>\n",
       "    </tr>\n",
       "    <tr>\n",
       "      <th>1</th>\n",
       "      <td>2023-09-22</td>\n",
       "      <td>['mohon', 'klarifikasi', 'dari', 'asuransi', '...</td>\n",
       "      <td>MuhTaufikRahmat</td>\n",
       "      <td>AIA</td>\n",
       "      <td>2</td>\n",
       "    </tr>\n",
       "    <tr>\n",
       "      <th>2</th>\n",
       "      <td>2023-09-21</td>\n",
       "      <td>['indonesia', 'unit', 'link', '5', 'tips', 'se...</td>\n",
       "      <td>fiona99351131</td>\n",
       "      <td>AIA</td>\n",
       "      <td>2</td>\n",
       "    </tr>\n",
       "    <tr>\n",
       "      <th>3</th>\n",
       "      <td>2023-09-21</td>\n",
       "      <td>['halo', 'bang', 'maaf', 'nimbrung', 'pesan', ...</td>\n",
       "      <td>fiayeee</td>\n",
       "      <td>AIA</td>\n",
       "      <td>2</td>\n",
       "    </tr>\n",
       "    <tr>\n",
       "      <th>4</th>\n",
       "      <td>2023-09-18</td>\n",
       "      <td>['impactnya', 'rumah', 'sakit', 'rekan', 'reka...</td>\n",
       "      <td>filcadet</td>\n",
       "      <td>AIA</td>\n",
       "      <td>1</td>\n",
       "    </tr>\n",
       "  </tbody>\n",
       "</table>\n",
       "</div>"
      ],
      "text/plain": [
       "   created_at                                          full_text  \\\n",
       "0  2023-09-25  ['1', '5', 'juta', 'sist', 'kantor', 'sih', 'j...   \n",
       "1  2023-09-22  ['mohon', 'klarifikasi', 'dari', 'asuransi', '...   \n",
       "2  2023-09-21  ['indonesia', 'unit', 'link', '5', 'tips', 'se...   \n",
       "3  2023-09-21  ['halo', 'bang', 'maaf', 'nimbrung', 'pesan', ...   \n",
       "4  2023-09-18  ['impactnya', 'rumah', 'sakit', 'rekan', 'reka...   \n",
       "\n",
       "          username Produk  rate  \n",
       "0       Ditanyadia    AIA     2  \n",
       "1  MuhTaufikRahmat    AIA     2  \n",
       "2    fiona99351131    AIA     2  \n",
       "3          fiayeee    AIA     2  \n",
       "4         filcadet    AIA     1  "
      ]
     },
     "execution_count": 3,
     "metadata": {},
     "output_type": "execute_result"
    }
   ],
   "source": [
    "data_raw.head()"
   ]
  },
  {
   "cell_type": "code",
   "execution_count": 4,
   "metadata": {},
   "outputs": [
    {
     "data": {
      "text/html": [
       "<div>\n",
       "<style scoped>\n",
       "    .dataframe tbody tr th:only-of-type {\n",
       "        vertical-align: middle;\n",
       "    }\n",
       "\n",
       "    .dataframe tbody tr th {\n",
       "        vertical-align: top;\n",
       "    }\n",
       "\n",
       "    .dataframe thead th {\n",
       "        text-align: right;\n",
       "    }\n",
       "</style>\n",
       "<table border=\"1\" class=\"dataframe\">\n",
       "  <thead>\n",
       "    <tr style=\"text-align: right;\">\n",
       "      <th></th>\n",
       "      <th>created_at</th>\n",
       "      <th>full_text</th>\n",
       "      <th>username</th>\n",
       "      <th>Produk</th>\n",
       "      <th>rate</th>\n",
       "      <th>user_id</th>\n",
       "    </tr>\n",
       "  </thead>\n",
       "  <tbody>\n",
       "    <tr>\n",
       "      <th>0</th>\n",
       "      <td>2023-09-25</td>\n",
       "      <td>['1', '5', 'juta', 'sist', 'kantor', 'sih', 'j...</td>\n",
       "      <td>Ditanyadia</td>\n",
       "      <td>AIA</td>\n",
       "      <td>2</td>\n",
       "      <td>138</td>\n",
       "    </tr>\n",
       "    <tr>\n",
       "      <th>1</th>\n",
       "      <td>2023-09-22</td>\n",
       "      <td>['mohon', 'klarifikasi', 'dari', 'asuransi', '...</td>\n",
       "      <td>MuhTaufikRahmat</td>\n",
       "      <td>AIA</td>\n",
       "      <td>2</td>\n",
       "      <td>295</td>\n",
       "    </tr>\n",
       "    <tr>\n",
       "      <th>2</th>\n",
       "      <td>2023-09-21</td>\n",
       "      <td>['indonesia', 'unit', 'link', '5', 'tips', 'se...</td>\n",
       "      <td>fiona99351131</td>\n",
       "      <td>AIA</td>\n",
       "      <td>2</td>\n",
       "      <td>816</td>\n",
       "    </tr>\n",
       "    <tr>\n",
       "      <th>3</th>\n",
       "      <td>2023-09-21</td>\n",
       "      <td>['halo', 'bang', 'maaf', 'nimbrung', 'pesan', ...</td>\n",
       "      <td>fiayeee</td>\n",
       "      <td>AIA</td>\n",
       "      <td>2</td>\n",
       "      <td>813</td>\n",
       "    </tr>\n",
       "    <tr>\n",
       "      <th>4</th>\n",
       "      <td>2023-09-18</td>\n",
       "      <td>['impactnya', 'rumah', 'sakit', 'rekan', 'reka...</td>\n",
       "      <td>filcadet</td>\n",
       "      <td>AIA</td>\n",
       "      <td>1</td>\n",
       "      <td>815</td>\n",
       "    </tr>\n",
       "  </tbody>\n",
       "</table>\n",
       "</div>"
      ],
      "text/plain": [
       "   created_at                                          full_text  \\\n",
       "0  2023-09-25  ['1', '5', 'juta', 'sist', 'kantor', 'sih', 'j...   \n",
       "1  2023-09-22  ['mohon', 'klarifikasi', 'dari', 'asuransi', '...   \n",
       "2  2023-09-21  ['indonesia', 'unit', 'link', '5', 'tips', 'se...   \n",
       "3  2023-09-21  ['halo', 'bang', 'maaf', 'nimbrung', 'pesan', ...   \n",
       "4  2023-09-18  ['impactnya', 'rumah', 'sakit', 'rekan', 'reka...   \n",
       "\n",
       "          username Produk  rate  user_id  \n",
       "0       Ditanyadia    AIA     2      138  \n",
       "1  MuhTaufikRahmat    AIA     2      295  \n",
       "2    fiona99351131    AIA     2      816  \n",
       "3          fiayeee    AIA     2      813  \n",
       "4         filcadet    AIA     1      815  "
      ]
     },
     "execution_count": 4,
     "metadata": {},
     "output_type": "execute_result"
    }
   ],
   "source": [
    "# membuat user_id dari username dengan encoding labelencoder supaya unik dan hanya dimiliki oleh satu user saja\n",
    "from sklearn.preprocessing import LabelEncoder\n",
    "le = LabelEncoder()\n",
    "\n",
    "data_raw['user_id'] = le.fit_transform(data_raw['username'])\n",
    "\n",
    "data_raw.head()"
   ]
  },
  {
   "cell_type": "code",
   "execution_count": 5,
   "metadata": {},
   "outputs": [
    {
     "data": {
      "text/plain": [
       "user_id\n",
       "268     148\n",
       "1023    125\n",
       "186      99\n",
       "66       90\n",
       "64       89\n",
       "Name: count, dtype: int64"
      ]
     },
     "execution_count": 5,
     "metadata": {},
     "output_type": "execute_result"
    }
   ],
   "source": [
    "data_raw['user_id'].value_counts().head()"
   ]
  },
  {
   "cell_type": "code",
   "execution_count": 6,
   "metadata": {},
   "outputs": [],
   "source": [
    "# mengubah rate menjadi 1-5\n",
    "data_raw['rate'] = data_raw['rate'].map({0: 1, 1: 2, 2: 3, 3: 4, 4: 5})"
   ]
  },
  {
   "cell_type": "code",
   "execution_count": 7,
   "metadata": {},
   "outputs": [
    {
     "data": {
      "text/plain": [
       "rate\n",
       "2    1897\n",
       "3    1159\n",
       "4     126\n",
       "1      36\n",
       "5       3\n",
       "Name: count, dtype: int64"
      ]
     },
     "execution_count": 7,
     "metadata": {},
     "output_type": "execute_result"
    }
   ],
   "source": [
    "data_raw['rate'].value_counts()"
   ]
  },
  {
   "cell_type": "code",
   "execution_count": 8,
   "metadata": {},
   "outputs": [],
   "source": [
    "df = data_raw.copy()"
   ]
  },
  {
   "cell_type": "code",
   "execution_count": 9,
   "metadata": {},
   "outputs": [],
   "source": [
    "# encoding data pada kolom Produk\n",
    "label = { 'AIA' : 0, 'Allianz' : 1, 'Prudential' : 2, 'BNI Life' : 3, 'Manulife' : 4, 'Cigna' : 5 }\n",
    "\n",
    "df['label'] = df['Produk'].replace(label)"
   ]
  },
  {
   "cell_type": "code",
   "execution_count": 10,
   "metadata": {},
   "outputs": [
    {
     "data": {
      "text/html": [
       "<div>\n",
       "<style scoped>\n",
       "    .dataframe tbody tr th:only-of-type {\n",
       "        vertical-align: middle;\n",
       "    }\n",
       "\n",
       "    .dataframe tbody tr th {\n",
       "        vertical-align: top;\n",
       "    }\n",
       "\n",
       "    .dataframe thead th {\n",
       "        text-align: right;\n",
       "    }\n",
       "</style>\n",
       "<table border=\"1\" class=\"dataframe\">\n",
       "  <thead>\n",
       "    <tr style=\"text-align: right;\">\n",
       "      <th></th>\n",
       "      <th>created_at</th>\n",
       "      <th>full_text</th>\n",
       "      <th>username</th>\n",
       "      <th>Produk</th>\n",
       "      <th>rate</th>\n",
       "      <th>user_id</th>\n",
       "      <th>label</th>\n",
       "    </tr>\n",
       "  </thead>\n",
       "  <tbody>\n",
       "    <tr>\n",
       "      <th>0</th>\n",
       "      <td>2023-09-25</td>\n",
       "      <td>['1', '5', 'juta', 'sist', 'kantor', 'sih', 'j...</td>\n",
       "      <td>Ditanyadia</td>\n",
       "      <td>AIA</td>\n",
       "      <td>3</td>\n",
       "      <td>138</td>\n",
       "      <td>0</td>\n",
       "    </tr>\n",
       "    <tr>\n",
       "      <th>1</th>\n",
       "      <td>2023-09-22</td>\n",
       "      <td>['mohon', 'klarifikasi', 'dari', 'asuransi', '...</td>\n",
       "      <td>MuhTaufikRahmat</td>\n",
       "      <td>AIA</td>\n",
       "      <td>3</td>\n",
       "      <td>295</td>\n",
       "      <td>0</td>\n",
       "    </tr>\n",
       "    <tr>\n",
       "      <th>2</th>\n",
       "      <td>2023-09-21</td>\n",
       "      <td>['indonesia', 'unit', 'link', '5', 'tips', 'se...</td>\n",
       "      <td>fiona99351131</td>\n",
       "      <td>AIA</td>\n",
       "      <td>3</td>\n",
       "      <td>816</td>\n",
       "      <td>0</td>\n",
       "    </tr>\n",
       "    <tr>\n",
       "      <th>3</th>\n",
       "      <td>2023-09-21</td>\n",
       "      <td>['halo', 'bang', 'maaf', 'nimbrung', 'pesan', ...</td>\n",
       "      <td>fiayeee</td>\n",
       "      <td>AIA</td>\n",
       "      <td>3</td>\n",
       "      <td>813</td>\n",
       "      <td>0</td>\n",
       "    </tr>\n",
       "    <tr>\n",
       "      <th>4</th>\n",
       "      <td>2023-09-18</td>\n",
       "      <td>['impactnya', 'rumah', 'sakit', 'rekan', 'reka...</td>\n",
       "      <td>filcadet</td>\n",
       "      <td>AIA</td>\n",
       "      <td>2</td>\n",
       "      <td>815</td>\n",
       "      <td>0</td>\n",
       "    </tr>\n",
       "  </tbody>\n",
       "</table>\n",
       "</div>"
      ],
      "text/plain": [
       "   created_at                                          full_text  \\\n",
       "0  2023-09-25  ['1', '5', 'juta', 'sist', 'kantor', 'sih', 'j...   \n",
       "1  2023-09-22  ['mohon', 'klarifikasi', 'dari', 'asuransi', '...   \n",
       "2  2023-09-21  ['indonesia', 'unit', 'link', '5', 'tips', 'se...   \n",
       "3  2023-09-21  ['halo', 'bang', 'maaf', 'nimbrung', 'pesan', ...   \n",
       "4  2023-09-18  ['impactnya', 'rumah', 'sakit', 'rekan', 'reka...   \n",
       "\n",
       "          username Produk  rate  user_id  label  \n",
       "0       Ditanyadia    AIA     3      138      0  \n",
       "1  MuhTaufikRahmat    AIA     3      295      0  \n",
       "2    fiona99351131    AIA     3      816      0  \n",
       "3          fiayeee    AIA     3      813      0  \n",
       "4         filcadet    AIA     2      815      0  "
      ]
     },
     "execution_count": 10,
     "metadata": {},
     "output_type": "execute_result"
    }
   ],
   "source": [
    "df.head()"
   ]
  },
  {
   "cell_type": "markdown",
   "metadata": {},
   "source": [
    "# Modelling"
   ]
  },
  {
   "cell_type": "code",
   "execution_count": 11,
   "metadata": {},
   "outputs": [],
   "source": [
    "# langkah pertama sebelum membuat model Collaborative Filtering adalah membuat data menjadi format yang sesuai dengan library surprise\n",
    "reader = Reader(rating_scale=(1, 5))\n",
    "data = Dataset.load_from_df(df[['user_id', 'label', 'rate']], reader)\n",
    "\n",
    "# split data menjadi data train dan data test\n",
    "trainset, testset = train_test_split(data, test_size=0.2, random_state=42)\n",
    "\n",
    "# membuat model Collaborative Filtering dengan menggunakan SVD\n",
    "model = SVD(n_factors=50, n_epochs=20, lr_all=0.005, reg_all=0.02)"
   ]
  },
  {
   "cell_type": "code",
   "execution_count": 12,
   "metadata": {},
   "outputs": [
    {
     "data": {
      "text/plain": [
       "<surprise.prediction_algorithms.matrix_factorization.SVD at 0x1f096dcdad0>"
      ]
     },
     "execution_count": 12,
     "metadata": {},
     "output_type": "execute_result"
    }
   ],
   "source": [
    "# training model\n",
    "model.fit(trainset)"
   ]
  },
  {
   "cell_type": "code",
   "execution_count": 13,
   "metadata": {},
   "outputs": [],
   "source": [
    "# membuat prediksi\n",
    "predictions = model.test(testset)"
   ]
  },
  {
   "cell_type": "code",
   "execution_count": 14,
   "metadata": {},
   "outputs": [
    {
     "name": "stdout",
     "output_type": "stream",
     "text": [
      "MAE:  0.4904\n",
      "MAE:  0.49036900549356954\n"
     ]
    }
   ],
   "source": [
    "# menghitung error model dengan menggunakan MAE\n",
    "mae = accuracy.mae(predictions)\n",
    "print('MAE: ', mae)"
   ]
  },
  {
   "cell_type": "code",
   "execution_count": 16,
   "metadata": {},
   "outputs": [],
   "source": [
    "# membuat fungsi untuk merekomendasikan produk asuransi\n",
    "def recommend_product(user_id, model, n=5):\n",
    "    # membuat list produk yang sudah direview oleh user\n",
    "    produk_reviewed = df[df['user_id'] == user_id]['label'].unique()\n",
    "    \n",
    "    # membuat list produk yang belum direview oleh user\n",
    "    produk_not_reviewed = [produk for produk in df['label'].unique() if produk not in produk_reviewed]\n",
    "    \n",
    "    # membuat prediksi rating untuk produk yang belum direview oleh user\n",
    "    predictions = [model.predict(user_id, produk) for produk in produk_not_reviewed]\n",
    "    \n",
    "    # mengurutkan produk berdasarkan prediksi rating\n",
    "    predictions.sort(key=lambda x: x.est, reverse=True)\n",
    "    \n",
    "    # mengambil n produk teratas\n",
    "    top_n = predictions[:n]\n",
    "    \n",
    "    # mendapatkan id produk\n",
    "    top_n_produk = [pred.iid for pred in top_n]\n",
    "    \n",
    "    # mendapatkan nama produk\n",
    "    top_n_produk_name = [df[df['label'] == produk]['Produk'].values[0] for produk in top_n_produk]\n",
    "    \n",
    "    return top_n_produk_name"
   ]
  },
  {
   "cell_type": "code",
   "execution_count": 17,
   "metadata": {},
   "outputs": [
    {
     "data": {
      "text/plain": [
       "['Cigna', 'Prudential', 'AIA', 'Manulife', 'Allianz']"
      ]
     },
     "execution_count": 17,
     "metadata": {},
     "output_type": "execute_result"
    }
   ],
   "source": [
    "# membuat rekomendasi produk untuk user dengan id \n",
    "user_id = 15\n",
    "recommend_product(user_id, model)"
   ]
  },
  {
   "cell_type": "code",
   "execution_count": 18,
   "metadata": {},
   "outputs": [],
   "source": [
    "# menggunakan text review untuk merekomendasikan produk asuransi\n",
    "# membuat model TF-IDF\n",
    "tfidf = TfidfVectorizer(stop_words='english')\n",
    "tfidf_matrix = tfidf.fit_transform(data_raw['full_text'])"
   ]
  },
  {
   "cell_type": "code",
   "execution_count": 63,
   "metadata": {},
   "outputs": [
    {
     "data": {
      "text/plain": [
       "array(['BNI Life', 'AIA', 'Allianz'], dtype=object)"
      ]
     },
     "execution_count": 63,
     "metadata": {},
     "output_type": "execute_result"
    }
   ],
   "source": [
    "# membuat fungsi untuk merekomendasikan produk asuransi berdasarkan text review membandingkan word2vec dan tfidf\n",
    "# untuk text review yang diberikan oleh user menggunakan tfidf\n",
    "def recommend_product_tfidf(text_review, model, n=5):\n",
    "    # membuat vektor tfidf dari text review yang diberikan oleh user\n",
    "    tfidf_vector = tfidf.transform([text_review])\n",
    "    \n",
    "    # menghitung cosine similarity antara vektor tfidf user dengan vektor tfidf produk\n",
    "    cosine_sim = cosine_similarity(tfidf_matrix, tfidf_vector)\n",
    "    \n",
    "    # mengurutkan produk berdasarkan cosine similarity\n",
    "    produk_index = cosine_sim.flatten().argsort()[::-1]\n",
    "    \n",
    "    # mengambil n produk teratas\n",
    "    top_n = produk_index[:n]\n",
    "    \n",
    "    # mendapatkan nama produk\n",
    "    top_n_produk_name = data_raw.iloc[top_n]['Produk'].unique()\n",
    "    \n",
    "    return top_n_produk_name\n",
    "\n",
    "# membuat rekomendasi produk untuk user dengan text review\n",
    "text_review = 'rekomendasi asuransi yang murah dan bagus untuk keluarga'\n",
    "recommend_product_tfidf(text_review, model)"
   ]
  },
  {
   "cell_type": "code",
   "execution_count": 71,
   "metadata": {},
   "outputs": [],
   "source": [
    "# deploy model dengan menggunakan pickle\n",
    "import pickle"
   ]
  },
  {
   "cell_type": "markdown",
   "metadata": {},
   "source": [
    "# save model\n",
    "with open('Model/model_cf.pkl', 'wb') as file:\n",
    "    pickle.dump(model, file)"
   ]
  },
  {
   "cell_type": "markdown",
   "metadata": {},
   "source": [
    "# save tfidf\n",
    "with open('Model/tfidf.pkl', 'wb') as file:\n",
    "    pickle.dump(tfidf, file)"
   ]
  },
  {
   "cell_type": "code",
   "execution_count": 74,
   "metadata": {},
   "outputs": [],
   "source": [
    "# test load model\n",
    "with open('Model/model_cf.pkl', 'rb') as file:\n",
    "    model_pkl_cf = pickle.load(file)\n",
    "\n",
    "# test load tfidf\n",
    "with open('Model/tfidf.pkl', 'rb') as file:\n",
    "    tfidf_pkl = pickle.load(file)"
   ]
  },
  {
   "cell_type": "code",
   "execution_count": 75,
   "metadata": {},
   "outputs": [
    {
     "data": {
      "text/plain": [
       "['Cigna', 'Prudential', 'AIA', 'Manulife', 'Allianz']"
      ]
     },
     "execution_count": 75,
     "metadata": {},
     "output_type": "execute_result"
    }
   ],
   "source": [
    "# membuat rekomendasi produk untuk user dengan id\n",
    "user_id = 15\n",
    "recommend_product(user_id, model_pkl_cf)"
   ]
  },
  {
   "cell_type": "code",
   "execution_count": 76,
   "metadata": {},
   "outputs": [
    {
     "data": {
      "text/plain": [
       "array(['BNI Life', 'AIA', 'Allianz'], dtype=object)"
      ]
     },
     "execution_count": 76,
     "metadata": {},
     "output_type": "execute_result"
    }
   ],
   "source": [
    "# membuat rekomendasi produk untuk user dengan text review\n",
    "text_review = 'rekomendasi asuransi yang murah dan bagus untuk keluarga'\n",
    "recommend_product_tfidf(text_review, model_pkl_cf)"
   ]
  },
  {
   "cell_type": "code",
   "execution_count": null,
   "metadata": {},
   "outputs": [],
   "source": [
    "# membuat sistem rekomendasi produk asuransi menggunakan streamlit\n",
    "import streamlit as st\n",
    "import pickle\n",
    "\n",
    "# load model\n",
    "with open('Model/model_cf.pkl', 'rb') as file:\n",
    "    model_pkl_cf = pickle.load(file)\n",
    "\n",
    "# load tfidf\n",
    "with open('Model/tfidf.pkl', 'rb') as file:\n",
    "    tfidf_pkl = pickle.load(file)\n",
    "\n",
    "# membuat judul\n",
    "st.title('Rekomendasi Produk Asuransi')\n",
    "\n",
    "# membuat input text review\n",
    "text_review = st.text_input('Masukkan Text Review')\n",
    "\n",
    "# membuat tombol untuk merekomendasikan produk\n",
    "if st.button('Rekomendasi Produk'):\n",
    "    # merekomendasikan produk asuransi berdasarkan text review\n",
    "    recommended_product = recommend_product_tfidf(text_review, model_pkl_cf)\n",
    "\n",
    "    # menampilkan rekomendasi produk\n",
    "    st.write('Rekomendasi Produk:')\n",
    "    for i, produk in enumerate(recommended_product):\n",
    "        st.write(f'{i+1}. {produk}')"
   ]
  },
  {
   "cell_type": "code",
   "execution_count": null,
   "metadata": {},
   "outputs": [],
   "source": [
    "# membuat dashboard untuk bagian data eksplorasi dan visualisasi\n",
    "import matplotlib.pyplot as plt\n",
    "import seaborn as sns\n",
    "\n",
    "# membuat judul\n",
    "st.title('Data Eksplorasi dan Visualisasi')\n",
    "\n",
    "# menampilkan data eksplorasi\n",
    "st.write('Data Eksplorasi:')\n",
    "st.write('Jumlah Data:', len(data_raw))\n",
    "st.write('Jumlah User:', data_raw['user_id'].nunique())\n",
    "st.write('Jumlah Produk:', data_raw['Produk'].nunique())\n",
    "\n",
    "# membuat plot jumlah review per produk\n",
    "plt.figure(figsize=(10, 6))\n",
    "sns.countplot(data_raw['Produk'], order=data_raw['Produk'].value_counts().index)\n",
    "plt.xticks(rotation=45)\n",
    "plt.title('Jumlah Review per Produk')\n",
    "plt.tight_layout()\n",
    "st.pyplot()\n",
    "\n",
    "# membuat plot jumlah review per user\n",
    "plt.figure(figsize=(10, 6))\n",
    "sns.countplot(data_raw['user_id'], order=data_raw['user_id'].value_counts().index)\n",
    "plt.title('Jumlah Review per User')\n",
    "plt.tight_layout()\n",
    "st.pyplot()\n",
    "\n",
    "# membuat plot distribusi rating\n",
    "plt.figure(figsize=(10, 6))\n",
    "sns.countplot(data_raw['rate'])\n",
    "plt.title('Distribusi Rating')\n",
    "plt.tight_layout()\n",
    "st.pyplot()\n",
    "\n",
    "# membuat plot distribusi rating per produk\n",
    "plt.figure(figsize=(10, 6))\n",
    "sns.countplot(data_raw['Produk'], hue=data_raw['rate'], order=data_raw['Produk'].value_counts().index)\n",
    "plt.xticks(rotation=45)\n",
    "plt.title('Distribusi Rating per Produk')\n",
    "plt.tight_layout()\n",
    "st.pyplot()\n",
    "\n",
    "# membuat plot distribusi rating per user\n",
    "plt.figure(figsize=(10, 6))\n",
    "sns.countplot(data_raw['user_id'], hue=data_raw['rate'], order=data_raw['user_id'].value_counts().index)\n",
    "plt.title('Distribusi Rating per User')\n",
    "plt.tight_layout()\n",
    "st.pyplot()\n"
   ]
  }
 ],
 "metadata": {
  "kernelspec": {
   "display_name": "base",
   "language": "python",
   "name": "python3"
  },
  "language_info": {
   "codemirror_mode": {
    "name": "ipython",
    "version": 3
   },
   "file_extension": ".py",
   "mimetype": "text/x-python",
   "name": "python",
   "nbconvert_exporter": "python",
   "pygments_lexer": "ipython3",
   "version": "3.11.5"
  }
 },
 "nbformat": 4,
 "nbformat_minor": 2
}

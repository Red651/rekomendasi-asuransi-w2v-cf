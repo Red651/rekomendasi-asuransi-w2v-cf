{
 "cells": [
  {
   "cell_type": "code",
   "execution_count": 1,
   "metadata": {},
   "outputs": [],
   "source": [
    "import pandas as pd "
   ]
  },
  {
   "cell_type": "code",
   "execution_count": 10,
   "metadata": {},
   "outputs": [],
   "source": [
    "# load dataset\n",
    "data_aia = pd.read_csv('Dataset/asuransi_aia.csv', sep=';')\n",
    "data_allianz = pd.read_csv('Dataset/asuransi_allianz.csv', sep=';')\n",
    "data_cigna = pd.read_csv('Dataset/asuransi_cigna.csv', sep=';')\n",
    "data_manulife = pd.read_csv('Dataset/asuransi_manulife.csv', sep=';')\n",
    "data_bni = pd.read_csv('Dataset/asuransi_bni.csv', sep=';')\n",
    "data_prudential = pd.read_csv('Dataset/asuransi_prudential.csv', sep=';')\n",
    "data_sinarmas = pd.read_csv('Dataset/asuransi_sinarmas.csv', sep=';')"
   ]
  },
  {
   "cell_type": "code",
   "execution_count": 14,
   "metadata": {},
   "outputs": [],
   "source": [
    "data_aia['Produk'] = \"AIA\"\n",
    "data_allianz['Produk'] = \"Allianz\"\n",
    "data_cigna['Produk'] = \"Cigna\"\n",
    "data_manulife['Produk'] = \"Manulife\"\n",
    "data_bni['Produk'] = \"BNI Life\"\n",
    "data_prudential['Produk'] = \"Prudential\"\n",
    "data_sinarmas['Produk'] = \"Sinarmas\""
   ]
  },
  {
   "cell_type": "code",
   "execution_count": 16,
   "metadata": {},
   "outputs": [],
   "source": [
    "data_aia.to_csv('Fix_Dataset/asuransi_aia.csv', index=False)\n",
    "data_allianz.to_csv('Fix_Dataset/asuransi_allianz.csv', index=False)\n",
    "data_cigna.to_csv('Fix_Dataset/asuransi_cigna.csv', index=False)\n",
    "data_manulife.to_csv('Fix_Dataset/asuransi_manulife.csv', index=False)\n",
    "data_bni.to_csv('Fix_Dataset/asuransi_bni.csv', index=False)\n",
    "data_prudential.to_csv('Fix_Dataset/asuransi_prudential.csv', index=False)\n",
    "data_sinarmas.to_csv('Fix_Dataset/asuransi_sinarmas.csv', index=False)"
   ]
  },
  {
   "cell_type": "code",
   "execution_count": null,
   "metadata": {},
   "outputs": [],
   "source": []
  }
 ],
 "metadata": {
  "kernelspec": {
   "display_name": "base",
   "language": "python",
   "name": "python3"
  },
  "language_info": {
   "codemirror_mode": {
    "name": "ipython",
    "version": 3
   },
   "file_extension": ".py",
   "mimetype": "text/x-python",
   "name": "python",
   "nbconvert_exporter": "python",
   "pygments_lexer": "ipython3",
   "version": "3.11.5"
  }
 },
 "nbformat": 4,
 "nbformat_minor": 2
}

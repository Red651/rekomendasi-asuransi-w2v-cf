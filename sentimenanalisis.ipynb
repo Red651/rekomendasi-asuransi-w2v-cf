{
 "cells": [
  {
   "cell_type": "code",
   "execution_count": 1,
   "metadata": {},
   "outputs": [
    {
     "name": "stderr",
     "output_type": "stream",
     "text": [
      "c:\\Users\\farha\\miniconda3\\Lib\\site-packages\\tqdm\\auto.py:21: TqdmWarning: IProgress not found. Please update jupyter and ipywidgets. See https://ipywidgets.readthedocs.io/en/stable/user_install.html\n",
      "  from .autonotebook import tqdm as notebook_tqdm\n"
     ]
    }
   ],
   "source": [
    "import pandas as pd\n",
    "import numpy as np\n",
    "import nltk\n",
    "import re\n",
    "import string\n",
    "import matplotlib.pyplot as plt\n",
    "import seaborn as sns\n",
    "\n",
    "from nltk.corpus import stopwords\n",
    "from nltk.tokenize import word_tokenize\n",
    "from Sastrawi.Stemmer.StemmerFactory import StemmerFactory\n",
    "from sklearn.feature_extraction.text import TfidfVectorizer\n",
    "from sklearn.model_selection import train_test_split\n",
    "\n",
    "#bert model\n",
    "from transformers import BertModel, BertTokenizer\n",
    "\n",
    "import warnings\n",
    "warnings.filterwarnings(\"ignore\")"
   ]
  },
  {
   "cell_type": "code",
   "execution_count": 2,
   "metadata": {},
   "outputs": [],
   "source": [
    "# load dataset\n",
    "data_aia = pd.read_csv('Fix_Dataset/asuransi_aia.csv', sep=',')\n",
    "data_allianz = pd.read_csv('Fix_Dataset/asuransi_allianz.csv', sep=',')\n",
    "data_cigna = pd.read_csv('Fix_Dataset/asuransi_cigna.csv', sep=',')\n",
    "data_manulife = pd.read_csv('Fix_Dataset/asuransi_manulife.csv', sep=',')\n",
    "data_bni = pd.read_csv('Fix_Dataset/asuransi_bni.csv', sep=',')\n",
    "data_prudential = pd.read_csv('Fix_Dataset/asuransi_prudential.csv', sep=',')\n",
    "data_sinarmas = pd.read_csv('Fix_Dataset/asuransi_sinarmas.csv', sep=',')\n",
    "data_Testimoni = pd.read_csv('Fix_Dataset/asuransi_testimoni.csv', sep=',')"
   ]
  },
  {
   "cell_type": "code",
   "execution_count": 3,
   "metadata": {},
   "outputs": [],
   "source": [
    "frame = [data_aia,data_allianz,data_cigna,data_manulife,data_bni,data_prudential]\n",
    "\n",
    "data = pd.concat(frame)"
   ]
  },
  {
   "cell_type": "code",
   "execution_count": 4,
   "metadata": {},
   "outputs": [
    {
     "data": {
      "text/html": [
       "<div>\n",
       "<style scoped>\n",
       "    .dataframe tbody tr th:only-of-type {\n",
       "        vertical-align: middle;\n",
       "    }\n",
       "\n",
       "    .dataframe tbody tr th {\n",
       "        vertical-align: top;\n",
       "    }\n",
       "\n",
       "    .dataframe thead th {\n",
       "        text-align: right;\n",
       "    }\n",
       "</style>\n",
       "<table border=\"1\" class=\"dataframe\">\n",
       "  <thead>\n",
       "    <tr style=\"text-align: right;\">\n",
       "      <th></th>\n",
       "      <th>created_at</th>\n",
       "      <th>id_str</th>\n",
       "      <th>full_text</th>\n",
       "      <th>quote_count</th>\n",
       "      <th>reply_count</th>\n",
       "      <th>retweet_count</th>\n",
       "      <th>favorite_count</th>\n",
       "      <th>lang</th>\n",
       "      <th>user_id_str</th>\n",
       "      <th>conversation_id_str</th>\n",
       "      <th>username</th>\n",
       "      <th>tweet_url</th>\n",
       "      <th>Produk</th>\n",
       "    </tr>\n",
       "  </thead>\n",
       "  <tbody>\n",
       "    <tr>\n",
       "      <th>0</th>\n",
       "      <td>Mon Sep 25 06:06:11 +0000 2023</td>\n",
       "      <td>1706188329295966416</td>\n",
       "      <td>@shintaaraa_ 1.5 jt per tahun sist, bukan kant...</td>\n",
       "      <td>0</td>\n",
       "      <td>1</td>\n",
       "      <td>0</td>\n",
       "      <td>0</td>\n",
       "      <td>in</td>\n",
       "      <td>431418842</td>\n",
       "      <td>1706122633287553370</td>\n",
       "      <td>Ditanyadia</td>\n",
       "      <td>https://twitter.com/Ditanyadia/status/17061883...</td>\n",
       "      <td>AIA</td>\n",
       "    </tr>\n",
       "    <tr>\n",
       "      <th>1</th>\n",
       "      <td>Fri Sep 22 14:15:41 +0000 2023</td>\n",
       "      <td>1705224351996641705</td>\n",
       "      <td>@kumparan Mohon klarifikasi dr pihak asuransi ...</td>\n",
       "      <td>0</td>\n",
       "      <td>0</td>\n",
       "      <td>0</td>\n",
       "      <td>0</td>\n",
       "      <td>in</td>\n",
       "      <td>549841921</td>\n",
       "      <td>1705184059335532911</td>\n",
       "      <td>MuhTaufikRahmat</td>\n",
       "      <td>https://twitter.com/MuhTaufikRahmat/status/170...</td>\n",
       "      <td>AIA</td>\n",
       "    </tr>\n",
       "    <tr>\n",
       "      <th>2</th>\n",
       "      <td>Fri Sep 22 06:47:25 +0000 2023</td>\n",
       "      <td>1705111541975314830</td>\n",
       "      <td>🔔𝙇𝙊𝙆𝙀𝙍 𝙅𝘼𝘽𝙊𝘿𝙀𝙏𝘼𝘽𝙀𝙆  𝙉𝙊𝙏𝙀: buka link tautan mel...</td>\n",
       "      <td>0</td>\n",
       "      <td>0</td>\n",
       "      <td>0</td>\n",
       "      <td>0</td>\n",
       "      <td>in</td>\n",
       "      <td>1515856096933539840</td>\n",
       "      <td>1705111541975314830</td>\n",
       "      <td>ayusukaijo</td>\n",
       "      <td>https://twitter.com/ayusukaijo/status/17051115...</td>\n",
       "      <td>AIA</td>\n",
       "    </tr>\n",
       "    <tr>\n",
       "      <th>3</th>\n",
       "      <td>Fri Sep 22 06:44:36 +0000 2023</td>\n",
       "      <td>1705110832282230799</td>\n",
       "      <td>🔔𝙇𝙊𝙆𝙀𝙍 𝙅𝘼𝘽𝙊𝘿𝙀𝙏𝘼𝘽𝙀𝙆  𝙉𝙊𝙏𝙀: buka link tautan mel...</td>\n",
       "      <td>0</td>\n",
       "      <td>0</td>\n",
       "      <td>0</td>\n",
       "      <td>0</td>\n",
       "      <td>in</td>\n",
       "      <td>1298647119402643456</td>\n",
       "      <td>1705110832282230799</td>\n",
       "      <td>u2brosist</td>\n",
       "      <td>https://twitter.com/u2brosist/status/170511083...</td>\n",
       "      <td>AIA</td>\n",
       "    </tr>\n",
       "    <tr>\n",
       "      <th>4</th>\n",
       "      <td>Thu Sep 21 09:11:43 +0000 2023</td>\n",
       "      <td>1704785467294826746</td>\n",
       "      <td>#AIA #AIA Indonesia #Asuransi Unit Link 5 Tips...</td>\n",
       "      <td>0</td>\n",
       "      <td>0</td>\n",
       "      <td>0</td>\n",
       "      <td>0</td>\n",
       "      <td>in</td>\n",
       "      <td>1519622250089283584</td>\n",
       "      <td>1704785467294826746</td>\n",
       "      <td>fiona99351131</td>\n",
       "      <td>https://twitter.com/fiona99351131/status/17047...</td>\n",
       "      <td>AIA</td>\n",
       "    </tr>\n",
       "  </tbody>\n",
       "</table>\n",
       "</div>"
      ],
      "text/plain": [
       "                       created_at               id_str  \\\n",
       "0  Mon Sep 25 06:06:11 +0000 2023  1706188329295966416   \n",
       "1  Fri Sep 22 14:15:41 +0000 2023  1705224351996641705   \n",
       "2  Fri Sep 22 06:47:25 +0000 2023  1705111541975314830   \n",
       "3  Fri Sep 22 06:44:36 +0000 2023  1705110832282230799   \n",
       "4  Thu Sep 21 09:11:43 +0000 2023  1704785467294826746   \n",
       "\n",
       "                                           full_text  quote_count  \\\n",
       "0  @shintaaraa_ 1.5 jt per tahun sist, bukan kant...            0   \n",
       "1  @kumparan Mohon klarifikasi dr pihak asuransi ...            0   \n",
       "2  🔔𝙇𝙊𝙆𝙀𝙍 𝙅𝘼𝘽𝙊𝘿𝙀𝙏𝘼𝘽𝙀𝙆  𝙉𝙊𝙏𝙀: buka link tautan mel...            0   \n",
       "3  🔔𝙇𝙊𝙆𝙀𝙍 𝙅𝘼𝘽𝙊𝘿𝙀𝙏𝘼𝘽𝙀𝙆  𝙉𝙊𝙏𝙀: buka link tautan mel...            0   \n",
       "4  #AIA #AIA Indonesia #Asuransi Unit Link 5 Tips...            0   \n",
       "\n",
       "   reply_count  retweet_count  favorite_count lang          user_id_str  \\\n",
       "0            1              0               0   in            431418842   \n",
       "1            0              0               0   in            549841921   \n",
       "2            0              0               0   in  1515856096933539840   \n",
       "3            0              0               0   in  1298647119402643456   \n",
       "4            0              0               0   in  1519622250089283584   \n",
       "\n",
       "   conversation_id_str         username  \\\n",
       "0  1706122633287553370       Ditanyadia   \n",
       "1  1705184059335532911  MuhTaufikRahmat   \n",
       "2  1705111541975314830       ayusukaijo   \n",
       "3  1705110832282230799        u2brosist   \n",
       "4  1704785467294826746    fiona99351131   \n",
       "\n",
       "                                           tweet_url Produk  \n",
       "0  https://twitter.com/Ditanyadia/status/17061883...    AIA  \n",
       "1  https://twitter.com/MuhTaufikRahmat/status/170...    AIA  \n",
       "2  https://twitter.com/ayusukaijo/status/17051115...    AIA  \n",
       "3  https://twitter.com/u2brosist/status/170511083...    AIA  \n",
       "4  https://twitter.com/fiona99351131/status/17047...    AIA  "
      ]
     },
     "execution_count": 4,
     "metadata": {},
     "output_type": "execute_result"
    }
   ],
   "source": [
    "data.head()"
   ]
  },
  {
   "cell_type": "code",
   "execution_count": 5,
   "metadata": {},
   "outputs": [
    {
     "data": {
      "text/plain": [
       "created_at             0\n",
       "id_str                 0\n",
       "full_text              0\n",
       "quote_count            0\n",
       "reply_count            0\n",
       "retweet_count          0\n",
       "favorite_count         0\n",
       "lang                   0\n",
       "user_id_str            0\n",
       "conversation_id_str    0\n",
       "username               0\n",
       "tweet_url              0\n",
       "Produk                 0\n",
       "dtype: int64"
      ]
     },
     "execution_count": 5,
     "metadata": {},
     "output_type": "execute_result"
    }
   ],
   "source": [
    "data.isnull().sum()"
   ]
  },
  {
   "cell_type": "code",
   "execution_count": 6,
   "metadata": {},
   "outputs": [
    {
     "name": "stdout",
     "output_type": "stream",
     "text": [
      "<class 'pandas.core.frame.DataFrame'>\n",
      "Index: 3307 entries, 0 to 358\n",
      "Data columns (total 13 columns):\n",
      " #   Column               Non-Null Count  Dtype \n",
      "---  ------               --------------  ----- \n",
      " 0   created_at           3307 non-null   object\n",
      " 1   id_str               3307 non-null   int64 \n",
      " 2   full_text            3307 non-null   object\n",
      " 3   quote_count          3307 non-null   int64 \n",
      " 4   reply_count          3307 non-null   int64 \n",
      " 5   retweet_count        3307 non-null   int64 \n",
      " 6   favorite_count       3307 non-null   int64 \n",
      " 7   lang                 3307 non-null   object\n",
      " 8   user_id_str          3307 non-null   int64 \n",
      " 9   conversation_id_str  3307 non-null   int64 \n",
      " 10  username             3307 non-null   object\n",
      " 11  tweet_url            3307 non-null   object\n",
      " 12  Produk               3307 non-null   object\n",
      "dtypes: int64(7), object(6)\n",
      "memory usage: 361.7+ KB\n"
     ]
    }
   ],
   "source": [
    "data.info()"
   ]
  },
  {
   "cell_type": "markdown",
   "metadata": {},
   "source": [
    "# EDA"
   ]
  },
  {
   "cell_type": "code",
   "execution_count": 7,
   "metadata": {},
   "outputs": [
    {
     "data": {
      "text/plain": [
       "<Axes: title={'center': 'Jumlah data berdasarkan Produk'}, ylabel='count'>"
      ]
     },
     "execution_count": 7,
     "metadata": {},
     "output_type": "execute_result"
    },
    {
     "data": {
      "image/png": "[encoded data removed]",
      "text/plain": [
       "<Figure size 1000x1100 with 1 Axes>"
      ]
     },
     "metadata": {},
     "output_type": "display_data"
    }
   ],
   "source": [
    "data['Produk'].value_counts().plot(kind='pie', legend=True, autopct='%1.0f%%', figsize=(10,11), title='Jumlah data berdasarkan Produk')"
   ]
  },
  {
   "cell_type": "code",
   "execution_count": 8,
   "metadata": {},
   "outputs": [
    {
     "data": {
      "text/plain": [
       "<Axes: ylabel='count'>"
      ]
     },
     "execution_count": 8,
     "metadata": {},
     "output_type": "execute_result"
    },
    {
     "data": {
      "image/png": "[encoded data removed]",
      "text/plain": [
       "<Figure size 640x480 with 1 Axes>"
      ]
     },
     "metadata": {},
     "output_type": "display_data"
    }
   ],
   "source": [
    "data['lang'].value_counts().plot(kind='pie', legend=True, autopct='%1.0f%%')"
   ]
  },
  {
   "cell_type": "code",
   "execution_count": 9,
   "metadata": {},
   "outputs": [
    {
     "data": {
      "text/html": [
       "<div>\n",
       "<style scoped>\n",
       "    .dataframe tbody tr th:only-of-type {\n",
       "        vertical-align: middle;\n",
       "    }\n",
       "\n",
       "    .dataframe tbody tr th {\n",
       "        vertical-align: top;\n",
       "    }\n",
       "\n",
       "    .dataframe thead th {\n",
       "        text-align: right;\n",
       "    }\n",
       "</style>\n",
       "<table border=\"1\" class=\"dataframe\">\n",
       "  <thead>\n",
       "    <tr style=\"text-align: right;\">\n",
       "      <th></th>\n",
       "      <th>created_at</th>\n",
       "      <th>id_str</th>\n",
       "      <th>full_text</th>\n",
       "      <th>quote_count</th>\n",
       "      <th>reply_count</th>\n",
       "      <th>retweet_count</th>\n",
       "      <th>favorite_count</th>\n",
       "      <th>lang</th>\n",
       "      <th>user_id_str</th>\n",
       "      <th>conversation_id_str</th>\n",
       "      <th>username</th>\n",
       "      <th>tweet_url</th>\n",
       "      <th>Produk</th>\n",
       "    </tr>\n",
       "  </thead>\n",
       "  <tbody>\n",
       "    <tr>\n",
       "      <th>0</th>\n",
       "      <td>Mon Sep 25 06:06:11 +0000 2023</td>\n",
       "      <td>1706188329295966416</td>\n",
       "      <td>@shintaaraa_ 1.5 jt per tahun sist, bukan kant...</td>\n",
       "      <td>0</td>\n",
       "      <td>1</td>\n",
       "      <td>0</td>\n",
       "      <td>0</td>\n",
       "      <td>in</td>\n",
       "      <td>431418842</td>\n",
       "      <td>1706122633287553370</td>\n",
       "      <td>Ditanyadia</td>\n",
       "      <td>https://twitter.com/Ditanyadia/status/17061883...</td>\n",
       "      <td>AIA</td>\n",
       "    </tr>\n",
       "  </tbody>\n",
       "</table>\n",
       "</div>"
      ],
      "text/plain": [
       "                       created_at               id_str  \\\n",
       "0  Mon Sep 25 06:06:11 +0000 2023  1706188329295966416   \n",
       "\n",
       "                                           full_text  quote_count  \\\n",
       "0  @shintaaraa_ 1.5 jt per tahun sist, bukan kant...            0   \n",
       "\n",
       "   reply_count  retweet_count  favorite_count lang  user_id_str  \\\n",
       "0            1              0               0   in    431418842   \n",
       "\n",
       "   conversation_id_str    username  \\\n",
       "0  1706122633287553370  Ditanyadia   \n",
       "\n",
       "                                           tweet_url Produk  \n",
       "0  https://twitter.com/Ditanyadia/status/17061883...    AIA  "
      ]
     },
     "execution_count": 9,
     "metadata": {},
     "output_type": "execute_result"
    }
   ],
   "source": [
    "data.head(1)"
   ]
  },
  {
   "cell_type": "code",
   "execution_count": 10,
   "metadata": {},
   "outputs": [],
   "source": [
    "data = data.drop(columns=['id_str', 'quote_count', 'reply_count', 'retweet_count', 'favorite_count', 'lang', 'user_id_str','conversation_id_str', 'tweet_url'])"
   ]
  },
  {
   "cell_type": "code",
   "execution_count": 11,
   "metadata": {},
   "outputs": [
    {
     "data": {
      "text/html": [
       "<div>\n",
       "<style scoped>\n",
       "    .dataframe tbody tr th:only-of-type {\n",
       "        vertical-align: middle;\n",
       "    }\n",
       "\n",
       "    .dataframe tbody tr th {\n",
       "        vertical-align: top;\n",
       "    }\n",
       "\n",
       "    .dataframe thead th {\n",
       "        text-align: right;\n",
       "    }\n",
       "</style>\n",
       "<table border=\"1\" class=\"dataframe\">\n",
       "  <thead>\n",
       "    <tr style=\"text-align: right;\">\n",
       "      <th></th>\n",
       "      <th>created_at</th>\n",
       "      <th>full_text</th>\n",
       "      <th>username</th>\n",
       "      <th>Produk</th>\n",
       "    </tr>\n",
       "  </thead>\n",
       "  <tbody>\n",
       "    <tr>\n",
       "      <th>0</th>\n",
       "      <td>Mon Sep 25 06:06:11 +0000 2023</td>\n",
       "      <td>@shintaaraa_ 1.5 jt per tahun sist, bukan kant...</td>\n",
       "      <td>Ditanyadia</td>\n",
       "      <td>AIA</td>\n",
       "    </tr>\n",
       "    <tr>\n",
       "      <th>1</th>\n",
       "      <td>Fri Sep 22 14:15:41 +0000 2023</td>\n",
       "      <td>@kumparan Mohon klarifikasi dr pihak asuransi ...</td>\n",
       "      <td>MuhTaufikRahmat</td>\n",
       "      <td>AIA</td>\n",
       "    </tr>\n",
       "    <tr>\n",
       "      <th>2</th>\n",
       "      <td>Fri Sep 22 06:47:25 +0000 2023</td>\n",
       "      <td>🔔𝙇𝙊𝙆𝙀𝙍 𝙅𝘼𝘽𝙊𝘿𝙀𝙏𝘼𝘽𝙀𝙆  𝙉𝙊𝙏𝙀: buka link tautan mel...</td>\n",
       "      <td>ayusukaijo</td>\n",
       "      <td>AIA</td>\n",
       "    </tr>\n",
       "    <tr>\n",
       "      <th>3</th>\n",
       "      <td>Fri Sep 22 06:44:36 +0000 2023</td>\n",
       "      <td>🔔𝙇𝙊𝙆𝙀𝙍 𝙅𝘼𝘽𝙊𝘿𝙀𝙏𝘼𝘽𝙀𝙆  𝙉𝙊𝙏𝙀: buka link tautan mel...</td>\n",
       "      <td>u2brosist</td>\n",
       "      <td>AIA</td>\n",
       "    </tr>\n",
       "    <tr>\n",
       "      <th>4</th>\n",
       "      <td>Thu Sep 21 09:11:43 +0000 2023</td>\n",
       "      <td>#AIA #AIA Indonesia #Asuransi Unit Link 5 Tips...</td>\n",
       "      <td>fiona99351131</td>\n",
       "      <td>AIA</td>\n",
       "    </tr>\n",
       "  </tbody>\n",
       "</table>\n",
       "</div>"
      ],
      "text/plain": [
       "                       created_at  \\\n",
       "0  Mon Sep 25 06:06:11 +0000 2023   \n",
       "1  Fri Sep 22 14:15:41 +0000 2023   \n",
       "2  Fri Sep 22 06:47:25 +0000 2023   \n",
       "3  Fri Sep 22 06:44:36 +0000 2023   \n",
       "4  Thu Sep 21 09:11:43 +0000 2023   \n",
       "\n",
       "                                           full_text         username Produk  \n",
       "0  @shintaaraa_ 1.5 jt per tahun sist, bukan kant...       Ditanyadia    AIA  \n",
       "1  @kumparan Mohon klarifikasi dr pihak asuransi ...  MuhTaufikRahmat    AIA  \n",
       "2  🔔𝙇𝙊𝙆𝙀𝙍 𝙅𝘼𝘽𝙊𝘿𝙀𝙏𝘼𝘽𝙀𝙆  𝙉𝙊𝙏𝙀: buka link tautan mel...       ayusukaijo    AIA  \n",
       "3  🔔𝙇𝙊𝙆𝙀𝙍 𝙅𝘼𝘽𝙊𝘿𝙀𝙏𝘼𝘽𝙀𝙆  𝙉𝙊𝙏𝙀: buka link tautan mel...        u2brosist    AIA  \n",
       "4  #AIA #AIA Indonesia #Asuransi Unit Link 5 Tips...    fiona99351131    AIA  "
      ]
     },
     "execution_count": 11,
     "metadata": {},
     "output_type": "execute_result"
    }
   ],
   "source": [
    "data.head()"
   ]
  },
  {
   "cell_type": "code",
   "execution_count": 12,
   "metadata": {},
   "outputs": [],
   "source": [
    "df = pd.concat([data,data_Testimoni])"
   ]
  },
  {
   "cell_type": "code",
   "execution_count": 13,
   "metadata": {},
   "outputs": [
    {
     "data": {
      "text/html": [
       "<div>\n",
       "<style scoped>\n",
       "    .dataframe tbody tr th:only-of-type {\n",
       "        vertical-align: middle;\n",
       "    }\n",
       "\n",
       "    .dataframe tbody tr th {\n",
       "        vertical-align: top;\n",
       "    }\n",
       "\n",
       "    .dataframe thead th {\n",
       "        text-align: right;\n",
       "    }\n",
       "</style>\n",
       "<table border=\"1\" class=\"dataframe\">\n",
       "  <thead>\n",
       "    <tr style=\"text-align: right;\">\n",
       "      <th></th>\n",
       "      <th>created_at</th>\n",
       "      <th>full_text</th>\n",
       "      <th>username</th>\n",
       "      <th>Produk</th>\n",
       "    </tr>\n",
       "  </thead>\n",
       "  <tbody>\n",
       "    <tr>\n",
       "      <th>0</th>\n",
       "      <td>Mon Sep 25 06:06:11 +0000 2023</td>\n",
       "      <td>@shintaaraa_ 1.5 jt per tahun sist, bukan kant...</td>\n",
       "      <td>Ditanyadia</td>\n",
       "      <td>AIA</td>\n",
       "    </tr>\n",
       "    <tr>\n",
       "      <th>1</th>\n",
       "      <td>Fri Sep 22 14:15:41 +0000 2023</td>\n",
       "      <td>@kumparan Mohon klarifikasi dr pihak asuransi ...</td>\n",
       "      <td>MuhTaufikRahmat</td>\n",
       "      <td>AIA</td>\n",
       "    </tr>\n",
       "    <tr>\n",
       "      <th>2</th>\n",
       "      <td>Fri Sep 22 06:47:25 +0000 2023</td>\n",
       "      <td>🔔𝙇𝙊𝙆𝙀𝙍 𝙅𝘼𝘽𝙊𝘿𝙀𝙏𝘼𝘽𝙀𝙆  𝙉𝙊𝙏𝙀: buka link tautan mel...</td>\n",
       "      <td>ayusukaijo</td>\n",
       "      <td>AIA</td>\n",
       "    </tr>\n",
       "    <tr>\n",
       "      <th>3</th>\n",
       "      <td>Fri Sep 22 06:44:36 +0000 2023</td>\n",
       "      <td>🔔𝙇𝙊𝙆𝙀𝙍 𝙅𝘼𝘽𝙊𝘿𝙀𝙏𝘼𝘽𝙀𝙆  𝙉𝙊𝙏𝙀: buka link tautan mel...</td>\n",
       "      <td>u2brosist</td>\n",
       "      <td>AIA</td>\n",
       "    </tr>\n",
       "    <tr>\n",
       "      <th>4</th>\n",
       "      <td>Thu Sep 21 09:11:43 +0000 2023</td>\n",
       "      <td>#AIA #AIA Indonesia #Asuransi Unit Link 5 Tips...</td>\n",
       "      <td>fiona99351131</td>\n",
       "      <td>AIA</td>\n",
       "    </tr>\n",
       "  </tbody>\n",
       "</table>\n",
       "</div>"
      ],
      "text/plain": [
       "                       created_at  \\\n",
       "0  Mon Sep 25 06:06:11 +0000 2023   \n",
       "1  Fri Sep 22 14:15:41 +0000 2023   \n",
       "2  Fri Sep 22 06:47:25 +0000 2023   \n",
       "3  Fri Sep 22 06:44:36 +0000 2023   \n",
       "4  Thu Sep 21 09:11:43 +0000 2023   \n",
       "\n",
       "                                           full_text         username Produk  \n",
       "0  @shintaaraa_ 1.5 jt per tahun sist, bukan kant...       Ditanyadia    AIA  \n",
       "1  @kumparan Mohon klarifikasi dr pihak asuransi ...  MuhTaufikRahmat    AIA  \n",
       "2  🔔𝙇𝙊𝙆𝙀𝙍 𝙅𝘼𝘽𝙊𝘿𝙀𝙏𝘼𝘽𝙀𝙆  𝙉𝙊𝙏𝙀: buka link tautan mel...       ayusukaijo    AIA  \n",
       "3  🔔𝙇𝙊𝙆𝙀𝙍 𝙅𝘼𝘽𝙊𝘿𝙀𝙏𝘼𝘽𝙀𝙆  𝙉𝙊𝙏𝙀: buka link tautan mel...        u2brosist    AIA  \n",
       "4  #AIA #AIA Indonesia #Asuransi Unit Link 5 Tips...    fiona99351131    AIA  "
      ]
     },
     "execution_count": 13,
     "metadata": {},
     "output_type": "execute_result"
    }
   ],
   "source": [
    "df.head()"
   ]
  },
  {
   "cell_type": "code",
   "execution_count": 14,
   "metadata": {},
   "outputs": [
    {
     "name": "stdout",
     "output_type": "stream",
     "text": [
      "<class 'pandas.core.frame.DataFrame'>\n",
      "Index: 3403 entries, 0 to 95\n",
      "Data columns (total 4 columns):\n",
      " #   Column      Non-Null Count  Dtype \n",
      "---  ------      --------------  ----- \n",
      " 0   created_at  3403 non-null   object\n",
      " 1   full_text   3403 non-null   object\n",
      " 2   username    3403 non-null   object\n",
      " 3   Produk      3403 non-null   object\n",
      "dtypes: object(4)\n",
      "memory usage: 132.9+ KB\n"
     ]
    }
   ],
   "source": [
    "df.info()"
   ]
  },
  {
   "cell_type": "code",
   "execution_count": 15,
   "metadata": {},
   "outputs": [
    {
     "data": {
      "text/plain": [
       "created_at    0\n",
       "full_text     0\n",
       "username      0\n",
       "Produk        0\n",
       "dtype: int64"
      ]
     },
     "execution_count": 15,
     "metadata": {},
     "output_type": "execute_result"
    }
   ],
   "source": [
    "df.isnull().sum()"
   ]
  },
  {
   "cell_type": "code",
   "execution_count": 16,
   "metadata": {},
   "outputs": [],
   "source": [
    "df['created_at'] = pd.to_datetime(df['created_at'])\n",
    "df['created_at'] = df['created_at'].dt.date"
   ]
  },
  {
   "cell_type": "code",
   "execution_count": 17,
   "metadata": {},
   "outputs": [
    {
     "data": {
      "text/html": [
       "<div>\n",
       "<style scoped>\n",
       "    .dataframe tbody tr th:only-of-type {\n",
       "        vertical-align: middle;\n",
       "    }\n",
       "\n",
       "    .dataframe tbody tr th {\n",
       "        vertical-align: top;\n",
       "    }\n",
       "\n",
       "    .dataframe thead th {\n",
       "        text-align: right;\n",
       "    }\n",
       "</style>\n",
       "<table border=\"1\" class=\"dataframe\">\n",
       "  <thead>\n",
       "    <tr style=\"text-align: right;\">\n",
       "      <th></th>\n",
       "      <th>created_at</th>\n",
       "      <th>full_text</th>\n",
       "      <th>username</th>\n",
       "      <th>Produk</th>\n",
       "    </tr>\n",
       "  </thead>\n",
       "  <tbody>\n",
       "    <tr>\n",
       "      <th>0</th>\n",
       "      <td>2023-09-25</td>\n",
       "      <td>@shintaaraa_ 1.5 jt per tahun sist, bukan kant...</td>\n",
       "      <td>Ditanyadia</td>\n",
       "      <td>AIA</td>\n",
       "    </tr>\n",
       "    <tr>\n",
       "      <th>1</th>\n",
       "      <td>2023-09-22</td>\n",
       "      <td>@kumparan Mohon klarifikasi dr pihak asuransi ...</td>\n",
       "      <td>MuhTaufikRahmat</td>\n",
       "      <td>AIA</td>\n",
       "    </tr>\n",
       "    <tr>\n",
       "      <th>2</th>\n",
       "      <td>2023-09-22</td>\n",
       "      <td>🔔𝙇𝙊𝙆𝙀𝙍 𝙅𝘼𝘽𝙊𝘿𝙀𝙏𝘼𝘽𝙀𝙆  𝙉𝙊𝙏𝙀: buka link tautan mel...</td>\n",
       "      <td>ayusukaijo</td>\n",
       "      <td>AIA</td>\n",
       "    </tr>\n",
       "    <tr>\n",
       "      <th>3</th>\n",
       "      <td>2023-09-22</td>\n",
       "      <td>🔔𝙇𝙊𝙆𝙀𝙍 𝙅𝘼𝘽𝙊𝘿𝙀𝙏𝘼𝘽𝙀𝙆  𝙉𝙊𝙏𝙀: buka link tautan mel...</td>\n",
       "      <td>u2brosist</td>\n",
       "      <td>AIA</td>\n",
       "    </tr>\n",
       "    <tr>\n",
       "      <th>4</th>\n",
       "      <td>2023-09-21</td>\n",
       "      <td>#AIA #AIA Indonesia #Asuransi Unit Link 5 Tips...</td>\n",
       "      <td>fiona99351131</td>\n",
       "      <td>AIA</td>\n",
       "    </tr>\n",
       "  </tbody>\n",
       "</table>\n",
       "</div>"
      ],
      "text/plain": [
       "   created_at                                          full_text  \\\n",
       "0  2023-09-25  @shintaaraa_ 1.5 jt per tahun sist, bukan kant...   \n",
       "1  2023-09-22  @kumparan Mohon klarifikasi dr pihak asuransi ...   \n",
       "2  2023-09-22  🔔𝙇𝙊𝙆𝙀𝙍 𝙅𝘼𝘽𝙊𝘿𝙀𝙏𝘼𝘽𝙀𝙆  𝙉𝙊𝙏𝙀: buka link tautan mel...   \n",
       "3  2023-09-22  🔔𝙇𝙊𝙆𝙀𝙍 𝙅𝘼𝘽𝙊𝘿𝙀𝙏𝘼𝘽𝙀𝙆  𝙉𝙊𝙏𝙀: buka link tautan mel...   \n",
       "4  2023-09-21  #AIA #AIA Indonesia #Asuransi Unit Link 5 Tips...   \n",
       "\n",
       "          username Produk  \n",
       "0       Ditanyadia    AIA  \n",
       "1  MuhTaufikRahmat    AIA  \n",
       "2       ayusukaijo    AIA  \n",
       "3        u2brosist    AIA  \n",
       "4    fiona99351131    AIA  "
      ]
     },
     "execution_count": 17,
     "metadata": {},
     "output_type": "execute_result"
    }
   ],
   "source": [
    "df.head()"
   ]
  },
  {
   "cell_type": "markdown",
   "metadata": {},
   "source": [
    "# Data Cleaning"
   ]
  },
  {
   "cell_type": "code",
   "execution_count": 18,
   "metadata": {},
   "outputs": [],
   "source": [
    "def cleaning_data(text):\n",
    "    text = text.lower()\n",
    "    text = re.sub(r'\\\\x\\S+', '', text)\n",
    "    text = re.sub(r'@\\S+', '', text)\n",
    "    text = re.sub(r',', '', text)\n",
    "    text = re.sub(r'#\\S+', '', text)\n",
    "    text = re.sub(r'\\s+', ' ', text) \n",
    "    text = re.sub(r'haha\\S+', '', text)\n",
    "    text = re.sub(r'wkwk\\S+', '', text)\n",
    "    text = re.sub(r'http\\S+', '', text)\n",
    "    text = re.sub(r'www\\S+', '', text)\n",
    "    text = re.sub(r'pic\\S+', '', text)\n",
    "    text = re.sub(r'pic.twitter\\S+', '', text)\n",
    "    return text"
   ]
  },
  {
   "cell_type": "code",
   "execution_count": 19,
   "metadata": {},
   "outputs": [
    {
     "data": {
      "text/html": [
       "<div>\n",
       "<style scoped>\n",
       "    .dataframe tbody tr th:only-of-type {\n",
       "        vertical-align: middle;\n",
       "    }\n",
       "\n",
       "    .dataframe tbody tr th {\n",
       "        vertical-align: top;\n",
       "    }\n",
       "\n",
       "    .dataframe thead th {\n",
       "        text-align: right;\n",
       "    }\n",
       "</style>\n",
       "<table border=\"1\" class=\"dataframe\">\n",
       "  <thead>\n",
       "    <tr style=\"text-align: right;\">\n",
       "      <th></th>\n",
       "      <th>created_at</th>\n",
       "      <th>full_text</th>\n",
       "      <th>username</th>\n",
       "      <th>Produk</th>\n",
       "    </tr>\n",
       "  </thead>\n",
       "  <tbody>\n",
       "    <tr>\n",
       "      <th>0</th>\n",
       "      <td>2023-09-25</td>\n",
       "      <td>1.5 jt per tahun sist bukan kantor sih jatuh ...</td>\n",
       "      <td>Ditanyadia</td>\n",
       "      <td>AIA</td>\n",
       "    </tr>\n",
       "    <tr>\n",
       "      <th>1</th>\n",
       "      <td>2023-09-22</td>\n",
       "      <td>mohon klarifikasi dr pihak asuransi cc:</td>\n",
       "      <td>MuhTaufikRahmat</td>\n",
       "      <td>AIA</td>\n",
       "    </tr>\n",
       "    <tr>\n",
       "      <th>2</th>\n",
       "      <td>2023-09-22</td>\n",
       "      <td>🔔𝙇𝙊𝙆𝙀𝙍 𝙅𝘼𝘽𝙊𝘿𝙀𝙏𝘼𝘽𝙀𝙆 𝙉𝙊𝙏𝙀: buka link tautan mela...</td>\n",
       "      <td>ayusukaijo</td>\n",
       "      <td>AIA</td>\n",
       "    </tr>\n",
       "    <tr>\n",
       "      <th>3</th>\n",
       "      <td>2023-09-22</td>\n",
       "      <td>🔔𝙇𝙊𝙆𝙀𝙍 𝙅𝘼𝘽𝙊𝘿𝙀𝙏𝘼𝘽𝙀𝙆 𝙉𝙊𝙏𝙀: buka link tautan mela...</td>\n",
       "      <td>u2brosist</td>\n",
       "      <td>AIA</td>\n",
       "    </tr>\n",
       "    <tr>\n",
       "      <th>4</th>\n",
       "      <td>2023-09-21</td>\n",
       "      <td>indonesia unit link 5 tips self-healing untuk...</td>\n",
       "      <td>fiona99351131</td>\n",
       "      <td>AIA</td>\n",
       "    </tr>\n",
       "  </tbody>\n",
       "</table>\n",
       "</div>"
      ],
      "text/plain": [
       "   created_at                                          full_text  \\\n",
       "0  2023-09-25   1.5 jt per tahun sist bukan kantor sih jatuh ...   \n",
       "1  2023-09-22            mohon klarifikasi dr pihak asuransi cc:   \n",
       "2  2023-09-22  🔔𝙇𝙊𝙆𝙀𝙍 𝙅𝘼𝘽𝙊𝘿𝙀𝙏𝘼𝘽𝙀𝙆 𝙉𝙊𝙏𝙀: buka link tautan mela...   \n",
       "3  2023-09-22  🔔𝙇𝙊𝙆𝙀𝙍 𝙅𝘼𝘽𝙊𝘿𝙀𝙏𝘼𝘽𝙀𝙆 𝙉𝙊𝙏𝙀: buka link tautan mela...   \n",
       "4  2023-09-21   indonesia unit link 5 tips self-healing untuk...   \n",
       "\n",
       "          username Produk  \n",
       "0       Ditanyadia    AIA  \n",
       "1  MuhTaufikRahmat    AIA  \n",
       "2       ayusukaijo    AIA  \n",
       "3        u2brosist    AIA  \n",
       "4    fiona99351131    AIA  "
      ]
     },
     "execution_count": 19,
     "metadata": {},
     "output_type": "execute_result"
    }
   ],
   "source": [
    "df['full_text'] = df['full_text'].apply(cleaning_data)\n",
    "df.head()"
   ]
  },
  {
   "cell_type": "code",
   "execution_count": 20,
   "metadata": {},
   "outputs": [],
   "source": [
    "# hapus teks yang berisi string \"buka link\"\n",
    "df.drop(df[df['full_text'].str.contains('buka link')].index, inplace=True)"
   ]
  },
  {
   "cell_type": "code",
   "execution_count": 21,
   "metadata": {},
   "outputs": [
    {
     "data": {
      "text/plain": [
       "created_at    0\n",
       "full_text     0\n",
       "username      0\n",
       "Produk        0\n",
       "dtype: int64"
      ]
     },
     "execution_count": 21,
     "metadata": {},
     "output_type": "execute_result"
    }
   ],
   "source": [
    "df.isnull().sum()"
   ]
  },
  {
   "cell_type": "code",
   "execution_count": 22,
   "metadata": {},
   "outputs": [
    {
     "data": {
      "text/plain": [
       "168"
      ]
     },
     "execution_count": 22,
     "metadata": {},
     "output_type": "execute_result"
    }
   ],
   "source": [
    "df['full_text'].duplicated().sum()"
   ]
  },
  {
   "cell_type": "code",
   "execution_count": 23,
   "metadata": {},
   "outputs": [],
   "source": [
    "# drop duplicate data\n",
    "df.drop_duplicates(subset=['full_text'], inplace=True)"
   ]
  },
  {
   "cell_type": "code",
   "execution_count": 24,
   "metadata": {},
   "outputs": [
    {
     "data": {
      "text/plain": [
       "0"
      ]
     },
     "execution_count": 24,
     "metadata": {},
     "output_type": "execute_result"
    }
   ],
   "source": [
    "df['full_text'].duplicated().sum()"
   ]
  },
  {
   "cell_type": "code",
   "execution_count": 25,
   "metadata": {},
   "outputs": [
    {
     "data": {
      "text/html": [
       "<div>\n",
       "<style scoped>\n",
       "    .dataframe tbody tr th:only-of-type {\n",
       "        vertical-align: middle;\n",
       "    }\n",
       "\n",
       "    .dataframe tbody tr th {\n",
       "        vertical-align: top;\n",
       "    }\n",
       "\n",
       "    .dataframe thead th {\n",
       "        text-align: right;\n",
       "    }\n",
       "</style>\n",
       "<table border=\"1\" class=\"dataframe\">\n",
       "  <thead>\n",
       "    <tr style=\"text-align: right;\">\n",
       "      <th></th>\n",
       "      <th>created_at</th>\n",
       "      <th>full_text</th>\n",
       "      <th>username</th>\n",
       "      <th>Produk</th>\n",
       "    </tr>\n",
       "  </thead>\n",
       "  <tbody>\n",
       "    <tr>\n",
       "      <th>0</th>\n",
       "      <td>2023-09-25</td>\n",
       "      <td>1.5 jt per tahun sist bukan kantor sih jatuh ...</td>\n",
       "      <td>Ditanyadia</td>\n",
       "      <td>AIA</td>\n",
       "    </tr>\n",
       "    <tr>\n",
       "      <th>1</th>\n",
       "      <td>2023-09-22</td>\n",
       "      <td>mohon klarifikasi dr pihak asuransi cc:</td>\n",
       "      <td>MuhTaufikRahmat</td>\n",
       "      <td>AIA</td>\n",
       "    </tr>\n",
       "    <tr>\n",
       "      <th>4</th>\n",
       "      <td>2023-09-21</td>\n",
       "      <td>indonesia unit link 5 tips self-healing untuk...</td>\n",
       "      <td>fiona99351131</td>\n",
       "      <td>AIA</td>\n",
       "    </tr>\n",
       "    <tr>\n",
       "      <th>5</th>\n",
       "      <td>2023-09-21</td>\n",
       "      <td>halo bang maaf nimbrung boleh saya dm terkait...</td>\n",
       "      <td>fiayeee</td>\n",
       "      <td>AIA</td>\n",
       "    </tr>\n",
       "    <tr>\n",
       "      <th>7</th>\n",
       "      <td>2023-09-18</td>\n",
       "      <td>impactnya akan banyak rs yang rekanan menjadi ...</td>\n",
       "      <td>filcadet</td>\n",
       "      <td>AIA</td>\n",
       "    </tr>\n",
       "  </tbody>\n",
       "</table>\n",
       "</div>"
      ],
      "text/plain": [
       "   created_at                                          full_text  \\\n",
       "0  2023-09-25   1.5 jt per tahun sist bukan kantor sih jatuh ...   \n",
       "1  2023-09-22            mohon klarifikasi dr pihak asuransi cc:   \n",
       "4  2023-09-21   indonesia unit link 5 tips self-healing untuk...   \n",
       "5  2023-09-21   halo bang maaf nimbrung boleh saya dm terkait...   \n",
       "7  2023-09-18  impactnya akan banyak rs yang rekanan menjadi ...   \n",
       "\n",
       "          username Produk  \n",
       "0       Ditanyadia    AIA  \n",
       "1  MuhTaufikRahmat    AIA  \n",
       "4    fiona99351131    AIA  \n",
       "5          fiayeee    AIA  \n",
       "7         filcadet    AIA  "
      ]
     },
     "execution_count": 25,
     "metadata": {},
     "output_type": "execute_result"
    }
   ],
   "source": [
    "df.head()"
   ]
  },
  {
   "cell_type": "markdown",
   "metadata": {},
   "source": [
    "# preprocessing"
   ]
  },
  {
   "cell_type": "markdown",
   "metadata": {},
   "source": [
    "## Tokenization"
   ]
  },
  {
   "cell_type": "code",
   "execution_count": 26,
   "metadata": {},
   "outputs": [],
   "source": [
    "# tokenization\n",
    "def tokenization(text):\n",
    "    return word_tokenize(text)\n",
    "\n",
    "df['full_text'] = df['full_text'].apply(tokenization)"
   ]
  },
  {
   "cell_type": "code",
   "execution_count": 27,
   "metadata": {},
   "outputs": [
    {
     "data": {
      "text/html": [
       "<div>\n",
       "<style scoped>\n",
       "    .dataframe tbody tr th:only-of-type {\n",
       "        vertical-align: middle;\n",
       "    }\n",
       "\n",
       "    .dataframe tbody tr th {\n",
       "        vertical-align: top;\n",
       "    }\n",
       "\n",
       "    .dataframe thead th {\n",
       "        text-align: right;\n",
       "    }\n",
       "</style>\n",
       "<table border=\"1\" class=\"dataframe\">\n",
       "  <thead>\n",
       "    <tr style=\"text-align: right;\">\n",
       "      <th></th>\n",
       "      <th>created_at</th>\n",
       "      <th>full_text</th>\n",
       "      <th>username</th>\n",
       "      <th>Produk</th>\n",
       "    </tr>\n",
       "  </thead>\n",
       "  <tbody>\n",
       "    <tr>\n",
       "      <th>0</th>\n",
       "      <td>2023-09-25</td>\n",
       "      <td>[1.5, jt, per, tahun, sist, bukan, kantor, sih...</td>\n",
       "      <td>Ditanyadia</td>\n",
       "      <td>AIA</td>\n",
       "    </tr>\n",
       "    <tr>\n",
       "      <th>1</th>\n",
       "      <td>2023-09-22</td>\n",
       "      <td>[mohon, klarifikasi, dr, pihak, asuransi, cc, :]</td>\n",
       "      <td>MuhTaufikRahmat</td>\n",
       "      <td>AIA</td>\n",
       "    </tr>\n",
       "    <tr>\n",
       "      <th>4</th>\n",
       "      <td>2023-09-21</td>\n",
       "      <td>[indonesia, unit, link, 5, tips, self-healing,...</td>\n",
       "      <td>fiona99351131</td>\n",
       "      <td>AIA</td>\n",
       "    </tr>\n",
       "    <tr>\n",
       "      <th>5</th>\n",
       "      <td>2023-09-21</td>\n",
       "      <td>[halo, bang, maaf, nimbrung, boleh, saya, dm, ...</td>\n",
       "      <td>fiayeee</td>\n",
       "      <td>AIA</td>\n",
       "    </tr>\n",
       "    <tr>\n",
       "      <th>7</th>\n",
       "      <td>2023-09-18</td>\n",
       "      <td>[impactnya, akan, banyak, rs, yang, rekanan, m...</td>\n",
       "      <td>filcadet</td>\n",
       "      <td>AIA</td>\n",
       "    </tr>\n",
       "  </tbody>\n",
       "</table>\n",
       "</div>"
      ],
      "text/plain": [
       "   created_at                                          full_text  \\\n",
       "0  2023-09-25  [1.5, jt, per, tahun, sist, bukan, kantor, sih...   \n",
       "1  2023-09-22   [mohon, klarifikasi, dr, pihak, asuransi, cc, :]   \n",
       "4  2023-09-21  [indonesia, unit, link, 5, tips, self-healing,...   \n",
       "5  2023-09-21  [halo, bang, maaf, nimbrung, boleh, saya, dm, ...   \n",
       "7  2023-09-18  [impactnya, akan, banyak, rs, yang, rekanan, m...   \n",
       "\n",
       "          username Produk  \n",
       "0       Ditanyadia    AIA  \n",
       "1  MuhTaufikRahmat    AIA  \n",
       "4    fiona99351131    AIA  \n",
       "5          fiayeee    AIA  \n",
       "7         filcadet    AIA  "
      ]
     },
     "execution_count": 27,
     "metadata": {},
     "output_type": "execute_result"
    }
   ],
   "source": [
    "df.head()"
   ]
  },
  {
   "cell_type": "markdown",
   "metadata": {},
   "source": [
    "<section id=stemming> <h1>Stemming</h1>"
   ]
  },
  {
   "cell_type": "code",
   "execution_count": 28,
   "metadata": {},
   "outputs": [],
   "source": [
    "factory = StemmerFactory()\n",
    "stemmer = factory.create_stemmer()\n",
    "\n",
    "def stemming(text):\n",
    "    return stemmer.stem(text)\n",
    "\n",
    "df['full_text'] = df['full_text'].apply(lambda tokens: [stemming(token) for token in tokens])"
   ]
  },
  {
   "cell_type": "code",
   "execution_count": 29,
   "metadata": {},
   "outputs": [
    {
     "data": {
      "text/html": [
       "<div>\n",
       "<style scoped>\n",
       "    .dataframe tbody tr th:only-of-type {\n",
       "        vertical-align: middle;\n",
       "    }\n",
       "\n",
       "    .dataframe tbody tr th {\n",
       "        vertical-align: top;\n",
       "    }\n",
       "\n",
       "    .dataframe thead th {\n",
       "        text-align: right;\n",
       "    }\n",
       "</style>\n",
       "<table border=\"1\" class=\"dataframe\">\n",
       "  <thead>\n",
       "    <tr style=\"text-align: right;\">\n",
       "      <th></th>\n",
       "      <th>created_at</th>\n",
       "      <th>full_text</th>\n",
       "      <th>username</th>\n",
       "      <th>Produk</th>\n",
       "    </tr>\n",
       "  </thead>\n",
       "  <tbody>\n",
       "    <tr>\n",
       "      <th>0</th>\n",
       "      <td>2023-09-25</td>\n",
       "      <td>[1 5, jt, per, tahun, sist, bukan, kantor, sih...</td>\n",
       "      <td>Ditanyadia</td>\n",
       "      <td>AIA</td>\n",
       "    </tr>\n",
       "    <tr>\n",
       "      <th>1</th>\n",
       "      <td>2023-09-22</td>\n",
       "      <td>[mohon, klarifikasi, dr, pihak, asuransi, cc, ]</td>\n",
       "      <td>MuhTaufikRahmat</td>\n",
       "      <td>AIA</td>\n",
       "    </tr>\n",
       "    <tr>\n",
       "      <th>4</th>\n",
       "      <td>2023-09-21</td>\n",
       "      <td>[indonesia, unit, link, 5, tips, self-healing,...</td>\n",
       "      <td>fiona99351131</td>\n",
       "      <td>AIA</td>\n",
       "    </tr>\n",
       "    <tr>\n",
       "      <th>5</th>\n",
       "      <td>2023-09-21</td>\n",
       "      <td>[halo, bang, maaf, nimbrung, boleh, saya, dm, ...</td>\n",
       "      <td>fiayeee</td>\n",
       "      <td>AIA</td>\n",
       "    </tr>\n",
       "    <tr>\n",
       "      <th>7</th>\n",
       "      <td>2023-09-18</td>\n",
       "      <td>[impactnya, akan, banyak, rs, yang, rekan, jad...</td>\n",
       "      <td>filcadet</td>\n",
       "      <td>AIA</td>\n",
       "    </tr>\n",
       "  </tbody>\n",
       "</table>\n",
       "</div>"
      ],
      "text/plain": [
       "   created_at                                          full_text  \\\n",
       "0  2023-09-25  [1 5, jt, per, tahun, sist, bukan, kantor, sih...   \n",
       "1  2023-09-22    [mohon, klarifikasi, dr, pihak, asuransi, cc, ]   \n",
       "4  2023-09-21  [indonesia, unit, link, 5, tips, self-healing,...   \n",
       "5  2023-09-21  [halo, bang, maaf, nimbrung, boleh, saya, dm, ...   \n",
       "7  2023-09-18  [impactnya, akan, banyak, rs, yang, rekan, jad...   \n",
       "\n",
       "          username Produk  \n",
       "0       Ditanyadia    AIA  \n",
       "1  MuhTaufikRahmat    AIA  \n",
       "4    fiona99351131    AIA  \n",
       "5          fiayeee    AIA  \n",
       "7         filcadet    AIA  "
      ]
     },
     "execution_count": 29,
     "metadata": {},
     "output_type": "execute_result"
    }
   ],
   "source": [
    "df.head()"
   ]
  },
  {
   "cell_type": "markdown",
   "metadata": {},
   "source": [
    "# Stopword"
   ]
  },
  {
   "cell_type": "code",
   "execution_count": 30,
   "metadata": {},
   "outputs": [
    {
     "name": "stderr",
     "output_type": "stream",
     "text": [
      "[nltk_data] Downloading package punkt to\n",
      "[nltk_data]     C:\\Users\\farha\\AppData\\Roaming\\nltk_data...\n",
      "[nltk_data]   Package punkt is already up-to-date!\n",
      "[nltk_data] Downloading package stopwords to\n",
      "[nltk_data]     C:\\Users\\farha\\AppData\\Roaming\\nltk_data...\n",
      "[nltk_data]   Package stopwords is already up-to-date!\n"
     ]
    },
    {
     "data": {
      "text/plain": [
       "True"
      ]
     },
     "execution_count": 30,
     "metadata": {},
     "output_type": "execute_result"
    }
   ],
   "source": [
    "# download dictionary kata dasar untuk mengurangi kata slang dan singkatan\n",
    "nltk.download('punkt')\n",
    "nltk.download('stopwords')"
   ]
  },
  {
   "cell_type": "code",
   "execution_count": 31,
   "metadata": {},
   "outputs": [],
   "source": [
    "# remove stopwords\n",
    "def remove_stopwords(text):\n",
    "    stop_words = set(stopwords.words('indonesian'))\n",
    "    word_tokens = word_tokenize(text)\n",
    "    filtered_sentence = [word for word in word_tokens if word not in stop_words]\n",
    "    return ' '.join(filtered_sentence)\n",
    "\n",
    "df['full_text'] = df['full_text'].apply(lambda x: remove_stopwords(' '.join(x)))"
   ]
  },
  {
   "cell_type": "code",
   "execution_count": 32,
   "metadata": {},
   "outputs": [
    {
     "data": {
      "text/html": [
       "<div>\n",
       "<style scoped>\n",
       "    .dataframe tbody tr th:only-of-type {\n",
       "        vertical-align: middle;\n",
       "    }\n",
       "\n",
       "    .dataframe tbody tr th {\n",
       "        vertical-align: top;\n",
       "    }\n",
       "\n",
       "    .dataframe thead th {\n",
       "        text-align: right;\n",
       "    }\n",
       "</style>\n",
       "<table border=\"1\" class=\"dataframe\">\n",
       "  <thead>\n",
       "    <tr style=\"text-align: right;\">\n",
       "      <th></th>\n",
       "      <th>created_at</th>\n",
       "      <th>full_text</th>\n",
       "      <th>username</th>\n",
       "      <th>Produk</th>\n",
       "    </tr>\n",
       "  </thead>\n",
       "  <tbody>\n",
       "    <tr>\n",
       "      <th>0</th>\n",
       "      <td>2023-09-25</td>\n",
       "      <td>1 5 jt sist kantor sih jatuh nya dr asuransi a...</td>\n",
       "      <td>Ditanyadia</td>\n",
       "      <td>AIA</td>\n",
       "    </tr>\n",
       "    <tr>\n",
       "      <th>1</th>\n",
       "      <td>2023-09-22</td>\n",
       "      <td>mohon klarifikasi dr asuransi cc</td>\n",
       "      <td>MuhTaufikRahmat</td>\n",
       "      <td>AIA</td>\n",
       "    </tr>\n",
       "    <tr>\n",
       "      <th>4</th>\n",
       "      <td>2023-09-21</td>\n",
       "      <td>indonesia unit link 5 tips self-healing jaga s...</td>\n",
       "      <td>fiona99351131</td>\n",
       "      <td>AIA</td>\n",
       "    </tr>\n",
       "    <tr>\n",
       "      <th>5</th>\n",
       "      <td>2023-09-21</td>\n",
       "      <td>halo bang maaf nimbrung dm kait batal polis ai...</td>\n",
       "      <td>fiayeee</td>\n",
       "      <td>AIA</td>\n",
       "    </tr>\n",
       "    <tr>\n",
       "      <th>7</th>\n",
       "      <td>2023-09-18</td>\n",
       "      <td>impactnya rs rekan rekan check to your agent u...</td>\n",
       "      <td>filcadet</td>\n",
       "      <td>AIA</td>\n",
       "    </tr>\n",
       "  </tbody>\n",
       "</table>\n",
       "</div>"
      ],
      "text/plain": [
       "   created_at                                          full_text  \\\n",
       "0  2023-09-25  1 5 jt sist kantor sih jatuh nya dr asuransi a...   \n",
       "1  2023-09-22                   mohon klarifikasi dr asuransi cc   \n",
       "4  2023-09-21  indonesia unit link 5 tips self-healing jaga s...   \n",
       "5  2023-09-21  halo bang maaf nimbrung dm kait batal polis ai...   \n",
       "7  2023-09-18  impactnya rs rekan rekan check to your agent u...   \n",
       "\n",
       "          username Produk  \n",
       "0       Ditanyadia    AIA  \n",
       "1  MuhTaufikRahmat    AIA  \n",
       "4    fiona99351131    AIA  \n",
       "5          fiayeee    AIA  \n",
       "7         filcadet    AIA  "
      ]
     },
     "execution_count": 32,
     "metadata": {},
     "output_type": "execute_result"
    }
   ],
   "source": [
    "df.head()"
   ]
  },
  {
   "cell_type": "markdown",
   "metadata": {},
   "source": [
    "## Normalisasi Teks"
   ]
  },
  {
   "cell_type": "code",
   "execution_count": 33,
   "metadata": {},
   "outputs": [],
   "source": [
    "def convert_slang(text):\n",
    "    slang_word = pd.read_csv('Normalisasi\\kamus_kata.csv', sep=',')\n",
    "    slang_word_dict = {}\n",
    "    for index, row in slang_word.iterrows():\n",
    "        slang_word_dict[row['singkatan']] = row['kata_asli']\n",
    "    return ' '.join([slang_word_dict[word] if word in slang_word_dict else word for word in text.split()])\n",
    "\n",
    "df['full_text'] = df['full_text'].apply(convert_slang)"
   ]
  },
  {
   "cell_type": "code",
   "execution_count": 34,
   "metadata": {},
   "outputs": [
    {
     "data": {
      "text/html": [
       "<div>\n",
       "<style scoped>\n",
       "    .dataframe tbody tr th:only-of-type {\n",
       "        vertical-align: middle;\n",
       "    }\n",
       "\n",
       "    .dataframe tbody tr th {\n",
       "        vertical-align: top;\n",
       "    }\n",
       "\n",
       "    .dataframe thead th {\n",
       "        text-align: right;\n",
       "    }\n",
       "</style>\n",
       "<table border=\"1\" class=\"dataframe\">\n",
       "  <thead>\n",
       "    <tr style=\"text-align: right;\">\n",
       "      <th></th>\n",
       "      <th>created_at</th>\n",
       "      <th>full_text</th>\n",
       "      <th>username</th>\n",
       "      <th>Produk</th>\n",
       "    </tr>\n",
       "  </thead>\n",
       "  <tbody>\n",
       "    <tr>\n",
       "      <th>0</th>\n",
       "      <td>2023-09-25</td>\n",
       "      <td>1 5 juta sist kantor sih jatuh nya dari asuran...</td>\n",
       "      <td>Ditanyadia</td>\n",
       "      <td>AIA</td>\n",
       "    </tr>\n",
       "    <tr>\n",
       "      <th>1</th>\n",
       "      <td>2023-09-22</td>\n",
       "      <td>mohon klarifikasi dari asuransi cc</td>\n",
       "      <td>MuhTaufikRahmat</td>\n",
       "      <td>AIA</td>\n",
       "    </tr>\n",
       "    <tr>\n",
       "      <th>4</th>\n",
       "      <td>2023-09-21</td>\n",
       "      <td>indonesia unit link 5 tips self-healing jaga s...</td>\n",
       "      <td>fiona99351131</td>\n",
       "      <td>AIA</td>\n",
       "    </tr>\n",
       "    <tr>\n",
       "      <th>5</th>\n",
       "      <td>2023-09-21</td>\n",
       "      <td>halo bang maaf nimbrung pesan kait batal polis...</td>\n",
       "      <td>fiayeee</td>\n",
       "      <td>AIA</td>\n",
       "    </tr>\n",
       "    <tr>\n",
       "      <th>7</th>\n",
       "      <td>2023-09-18</td>\n",
       "      <td>impactnya rumah sakit rekan rekan check to you...</td>\n",
       "      <td>filcadet</td>\n",
       "      <td>AIA</td>\n",
       "    </tr>\n",
       "  </tbody>\n",
       "</table>\n",
       "</div>"
      ],
      "text/plain": [
       "   created_at                                          full_text  \\\n",
       "0  2023-09-25  1 5 juta sist kantor sih jatuh nya dari asuran...   \n",
       "1  2023-09-22                 mohon klarifikasi dari asuransi cc   \n",
       "4  2023-09-21  indonesia unit link 5 tips self-healing jaga s...   \n",
       "5  2023-09-21  halo bang maaf nimbrung pesan kait batal polis...   \n",
       "7  2023-09-18  impactnya rumah sakit rekan rekan check to you...   \n",
       "\n",
       "          username Produk  \n",
       "0       Ditanyadia    AIA  \n",
       "1  MuhTaufikRahmat    AIA  \n",
       "4    fiona99351131    AIA  \n",
       "5          fiayeee    AIA  \n",
       "7         filcadet    AIA  "
      ]
     },
     "execution_count": 34,
     "metadata": {},
     "output_type": "execute_result"
    }
   ],
   "source": [
    "df.head()"
   ]
  },
  {
   "cell_type": "code",
   "execution_count": 35,
   "metadata": {},
   "outputs": [],
   "source": [
    "# tokenization\n",
    "df['full_text'] = df['full_text'].apply(tokenization)"
   ]
  },
  {
   "cell_type": "markdown",
   "metadata": {},
   "source": [
    "# BERT"
   ]
  },
  {
   "cell_type": "code",
   "execution_count": 36,
   "metadata": {},
   "outputs": [],
   "source": [
    "import torch\n",
    "from transformers import BertTokenizer, BertForSequenceClassification\n",
    "from torch.nn.functional import softmax"
   ]
  },
  {
   "cell_type": "code",
   "execution_count": 37,
   "metadata": {},
   "outputs": [],
   "source": [
    "# Fungsi untuk menganalisis sentimen tweet\n",
    "def analisis_sentimen(tweet, model, tokenizer):\n",
    "    # Tokenisasi teks tweet\n",
    "    tokens = tokenizer.encode_plus(tweet, add_special_tokens=True, return_tensors='pt')\n",
    "\n",
    "    # Prediksi sentimen menggunakan model BERT\n",
    "    with torch.no_grad():\n",
    "        outputs = model(**tokens)\n",
    "        logits = outputs.logits\n",
    "\n",
    "    # Ambil label dengan probabilitas tertinggi\n",
    "    predicted_label = torch.argmax(logits, dim=1).item()\n",
    "\n",
    "    return predicted_label, softmax(logits, dim=1).tolist()[0]"
   ]
  },
  {
   "cell_type": "code",
   "execution_count": 38,
   "metadata": {},
   "outputs": [
    {
     "name": "stderr",
     "output_type": "stream",
     "text": [
      "Some weights of BertForSequenceClassification were not initialized from the model checkpoint at indobenchmark/indobert-large-p1 and are newly initialized: ['classifier.bias', 'classifier.weight']\n",
      "You should probably TRAIN this model on a down-stream task to be able to use it for predictions and inference.\n"
     ]
    }
   ],
   "source": [
    "# Load pre-trained model dan tokenizer untuk bahasa Indonesia\n",
    "model_name = 'indobenchmark/indobert-large-p1'\n",
    "tokenizer = BertTokenizer.from_pretrained(model_name)\n",
    "model = BertForSequenceClassification.from_pretrained(model_name)"
   ]
  },
  {
   "cell_type": "code",
   "execution_count": 39,
   "metadata": {},
   "outputs": [],
   "source": [
    "df['rate'] = df['full_text'].apply(lambda x: analisis_sentimen(' '.join(x), model, tokenizer)[0])"
   ]
  },
  {
   "cell_type": "code",
   "execution_count": 40,
   "metadata": {},
   "outputs": [
    {
     "data": {
      "text/html": [
       "<div>\n",
       "<style scoped>\n",
       "    .dataframe tbody tr th:only-of-type {\n",
       "        vertical-align: middle;\n",
       "    }\n",
       "\n",
       "    .dataframe tbody tr th {\n",
       "        vertical-align: top;\n",
       "    }\n",
       "\n",
       "    .dataframe thead th {\n",
       "        text-align: right;\n",
       "    }\n",
       "</style>\n",
       "<table border=\"1\" class=\"dataframe\">\n",
       "  <thead>\n",
       "    <tr style=\"text-align: right;\">\n",
       "      <th></th>\n",
       "      <th>created_at</th>\n",
       "      <th>full_text</th>\n",
       "      <th>username</th>\n",
       "      <th>Produk</th>\n",
       "      <th>rate</th>\n",
       "    </tr>\n",
       "  </thead>\n",
       "  <tbody>\n",
       "    <tr>\n",
       "      <th>0</th>\n",
       "      <td>2023-09-25</td>\n",
       "      <td>[1, 5, juta, sist, kantor, sih, jatuh, nya, da...</td>\n",
       "      <td>Ditanyadia</td>\n",
       "      <td>AIA</td>\n",
       "      <td>2</td>\n",
       "    </tr>\n",
       "    <tr>\n",
       "      <th>1</th>\n",
       "      <td>2023-09-22</td>\n",
       "      <td>[mohon, klarifikasi, dari, asuransi, cc]</td>\n",
       "      <td>MuhTaufikRahmat</td>\n",
       "      <td>AIA</td>\n",
       "      <td>1</td>\n",
       "    </tr>\n",
       "    <tr>\n",
       "      <th>4</th>\n",
       "      <td>2023-09-21</td>\n",
       "      <td>[indonesia, unit, link, 5, tips, self-healing,...</td>\n",
       "      <td>fiona99351131</td>\n",
       "      <td>AIA</td>\n",
       "      <td>2</td>\n",
       "    </tr>\n",
       "    <tr>\n",
       "      <th>5</th>\n",
       "      <td>2023-09-21</td>\n",
       "      <td>[halo, bang, maaf, nimbrung, pesan, kait, bata...</td>\n",
       "      <td>fiayeee</td>\n",
       "      <td>AIA</td>\n",
       "      <td>2</td>\n",
       "    </tr>\n",
       "    <tr>\n",
       "      <th>7</th>\n",
       "      <td>2023-09-18</td>\n",
       "      <td>[impactnya, rumah, sakit, rekan, rekan, check,...</td>\n",
       "      <td>filcadet</td>\n",
       "      <td>AIA</td>\n",
       "      <td>2</td>\n",
       "    </tr>\n",
       "  </tbody>\n",
       "</table>\n",
       "</div>"
      ],
      "text/plain": [
       "   created_at                                          full_text  \\\n",
       "0  2023-09-25  [1, 5, juta, sist, kantor, sih, jatuh, nya, da...   \n",
       "1  2023-09-22           [mohon, klarifikasi, dari, asuransi, cc]   \n",
       "4  2023-09-21  [indonesia, unit, link, 5, tips, self-healing,...   \n",
       "5  2023-09-21  [halo, bang, maaf, nimbrung, pesan, kait, bata...   \n",
       "7  2023-09-18  [impactnya, rumah, sakit, rekan, rekan, check,...   \n",
       "\n",
       "          username Produk  rate  \n",
       "0       Ditanyadia    AIA     2  \n",
       "1  MuhTaufikRahmat    AIA     1  \n",
       "4    fiona99351131    AIA     2  \n",
       "5          fiayeee    AIA     2  \n",
       "7         filcadet    AIA     2  "
      ]
     },
     "execution_count": 40,
     "metadata": {},
     "output_type": "execute_result"
    }
   ],
   "source": [
    "df.head()"
   ]
  },
  {
   "cell_type": "code",
   "execution_count": 42,
   "metadata": {},
   "outputs": [
    {
     "data": {
      "text/plain": [
       "<Axes: title={'center': 'Jumlah data berdasarkan Sentimen'}, ylabel='count'>"
      ]
     },
     "execution_count": 42,
     "metadata": {},
     "output_type": "execute_result"
    },
    {
     "data": {
      "image/png": "[encoded data removed]",
      "text/plain": [
       "<Figure size 1000x1100 with 1 Axes>"
      ]
     },
     "metadata": {},
     "output_type": "display_data"
    }
   ],
   "source": [
    "df['rate'].value_counts().plot(kind='pie', legend=True, autopct='%1.0f%%', figsize=(10,11), title='Jumlah data berdasarkan Sentimen')"
   ]
  },
  {
   "cell_type": "markdown",
   "metadata": {},
   "source": [
    "# save data to csv\n",
    "df.to_csv('Fix_Dataset/asuransi_clean.csv', index=False)"
   ]
  },
  {
   "cell_type": "code",
   "execution_count": 43,
   "metadata": {},
   "outputs": [],
   "source": [
    "# save model BERT yang sudah di training menggunakan Pickle\n",
    "import pickle\n",
    "\n",
    "with open('Model/model_sentimen.pkl', 'wb') as model_file:\n",
    "    pickle.dump(model, model_file)"
   ]
  },
  {
   "cell_type": "code",
   "execution_count": null,
   "metadata": {},
   "outputs": [],
   "source": []
  }
 ],
 "metadata": {
  "kernelspec": {
   "display_name": "base",
   "language": "python",
   "name": "python3"
  },
  "language_info": {
   "codemirror_mode": {
    "name": "ipython",
    "version": 3
   },
   "file_extension": ".py",
   "mimetype": "text/x-python",
   "name": "python",
   "nbconvert_exporter": "python",
   "pygments_lexer": "ipython3",
   "version": "3.11.5"
  }
 },
 "nbformat": 4,
 "nbformat_minor": 2
}
